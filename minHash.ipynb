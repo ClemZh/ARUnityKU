{
 "cells": [
  {
   "cell_type": "code",
   "execution_count": 328,
   "metadata": {},
   "outputs": [],
   "source": [
    "import random\n",
    "import numpy as np\n",
    "import sympy as sp"
   ]
  },
  {
   "cell_type": "code",
   "execution_count": 329,
   "metadata": {},
   "outputs": [],
   "source": [
    "L_VALUE=5"
   ]
  },
  {
   "cell_type": "markdown",
   "metadata": {},
   "source": [
    "We first create a function to verify if a number is prime."
   ]
  },
  {
   "cell_type": "code",
   "execution_count": 330,
   "metadata": {},
   "outputs": [],
   "source": [
    "def VerifyPrime(num):\n",
    "    if num == 1:\n",
    "        print(\"Not a prime number\")\n",
    "        return False\n",
    "    for i in range(2, num):\n",
    "        if num % i == 0:\n",
    "            print(\"Not a prime number\")\n",
    "            return False\n",
    "    return True"
   ]
  },
  {
   "cell_type": "code",
   "execution_count": 331,
   "metadata": {},
   "outputs": [
    {
     "name": "stdout",
     "output_type": "stream",
     "text": [
      "Not a prime number\n",
      "False\n",
      "True\n"
     ]
    }
   ],
   "source": [
    "print(VerifyPrime(1))\n",
    "print(VerifyPrime(2))"
   ]
  },
  {
   "cell_type": "markdown",
   "metadata": {},
   "source": [
    "We then create a function that creates the subsets S1----SQ based on a set S of size L and Q the number of subets"
   ]
  },
  {
   "cell_type": "code",
   "execution_count": 332,
   "metadata": {},
   "outputs": [
    {
     "data": {
      "text/plain": [
       "{0, 1, 2}"
      ]
     },
     "execution_count": 332,
     "metadata": {},
     "output_type": "execute_result"
    }
   ],
   "source": [
    "set(range(3))"
   ]
  },
  {
   "cell_type": "code",
   "execution_count": 333,
   "metadata": {},
   "outputs": [],
   "source": [
    "def generate_subset(L, Q, sparsity=0.01):\n",
    "    subsets = []\n",
    "    S = set(range(L))\n",
    "    max_size = max(1,int(L * sparsity))  # Max size of each subset is ~1% of L\n",
    "    for _ in range(Q):\n",
    "        subset_size = random.randint(1, max_size)  # Random size between 1 and 1% of L\n",
    "        subset = set(random.sample(S, subset_size))\n",
    "        subsets.append(subset)\n",
    "    return subsets"
   ]
  },
  {
   "cell_type": "markdown",
   "metadata": {},
   "source": [
    "Demo of the function"
   ]
  },
  {
   "cell_type": "markdown",
   "metadata": {},
   "source": [
    "We create a function to create the sparse matrix based on the subsets S1----SQ"
   ]
  },
  {
   "cell_type": "code",
   "execution_count": 334,
   "metadata": {},
   "outputs": [],
   "source": [
    "def create_sparse_matrix(L,Q,subsets):\n",
    "    M = np.zeros((L,Q),dtype=int) #In numpy rows then columns\n",
    "    for j, subset in enumerate(subsets): #Because enumerate returns index of subset and value of subset\n",
    "        for i in subset:\n",
    "            M[i, j] = 1\n",
    "    return M"
   ]
  },
  {
   "cell_type": "markdown",
   "metadata": {},
   "source": [
    "We create the permutation function"
   ]
  },
  {
   "cell_type": "code",
   "execution_count": 335,
   "metadata": {},
   "outputs": [
    {
     "data": {
      "text/plain": [
       "3"
      ]
     },
     "execution_count": 335,
     "metadata": {},
     "output_type": "execute_result"
    }
   ],
   "source": [
    "sp.prime(2)"
   ]
  },
  {
   "cell_type": "code",
   "execution_count": 336,
   "metadata": {},
   "outputs": [],
   "source": [
    "def hi_x(L,x,n):\n",
    "    hi = [(1*x + 2) % L]\n",
    "    for i in range(1,n):\n",
    "        hi.append((sp.prime(i)*x + 2)% L)\n",
    "    return hi"
   ]
  },
  {
   "cell_type": "markdown",
   "metadata": {},
   "source": [
    "We will create a SIG Matrix based on the permutation function as well as the sparse matrix\n",
    "We first create the permutation list h1 and h2"
   ]
  },
  {
   "cell_type": "code",
   "execution_count": 337,
   "metadata": {},
   "outputs": [
    {
     "name": "stderr",
     "output_type": "stream",
     "text": [
      "/tmp/ipykernel_6177/3473781552.py:7: DeprecationWarning: Sampling from a set deprecated\n",
      "since Python 3.9 and will be removed in a subsequent version.\n",
      "  subset = set(random.sample(S, subset_size))\n"
     ]
    }
   ],
   "source": [
    "sparse_matrix = create_sparse_matrix(L_VALUE,4,generate_subset(L_VALUE,4))"
   ]
  },
  {
   "cell_type": "code",
   "execution_count": 338,
   "metadata": {},
   "outputs": [
    {
     "data": {
      "text/plain": [
       "(5, 4)"
      ]
     },
     "execution_count": 338,
     "metadata": {},
     "output_type": "execute_result"
    }
   ],
   "source": [
    "sparse_matrix.shape"
   ]
  },
  {
   "cell_type": "code",
   "execution_count": 339,
   "metadata": {},
   "outputs": [
    {
     "data": {
      "text/plain": [
       "array([[0, 0, 0, 0],\n",
       "       [0, 0, 0, 0]])"
      ]
     },
     "execution_count": 339,
     "metadata": {},
     "output_type": "execute_result"
    }
   ],
   "source": [
    "np.zeros((2,sparse_matrix.shape[1]),dtype=int)"
   ]
  },
  {
   "cell_type": "code",
   "execution_count": 340,
   "metadata": {},
   "outputs": [
    {
     "data": {
      "text/plain": [
       "[[2, 2], [3, 4], [4, 1], [0, 3], [1, 0]]"
      ]
     },
     "execution_count": 340,
     "metadata": {},
     "output_type": "execute_result"
    }
   ],
   "source": [
    "h1_and_2 = [hi_x(L_VALUE,i,2) for i in range(L_VALUE)]\n",
    "h1_and_2"
   ]
  },
  {
   "cell_type": "code",
   "execution_count": 341,
   "metadata": {},
   "outputs": [],
   "source": [
    "# signature_matrix = np.full((2,sparse_matrix.shape[1]),np.inf)\n",
    "# for col in range(sparse_matrix.shape[1]):\n",
    "#     for row in range(sparse_matrix.shape[0]):\n",
    "#         if sparse_matrix[row, col] == 1:\n",
    "#             for perm_idx in range(2):  # For each hash function\n",
    "#                 hash_value = h1_and_2[row][perm_idx]\n",
    "#                 signature_matrix[perm_idx, col] = min(signature_matrix[perm_idx, col], hash_value)\n",
    "\n",
    "def signature_matrix(sparse_matrix, n_permutations,L):  \n",
    "    num_columns = sparse_matrix.shape[1]\n",
    "    signature_matrix = np.full((n_permutations, num_columns), np.inf)\n",
    "    \n",
    "    for col in range(num_columns):\n",
    "        for row in range(sparse_matrix.shape[0]):\n",
    "            if sparse_matrix[row, col] == 1:\n",
    "                # Apply the permutation functions to the row index\n",
    "                hash_values = hi_x(L, row, n_permutations)\n",
    "                \n",
    "                # Update the signature matrix with the minimum hash values\n",
    "                for perm_idx in range(n_permutations):\n",
    "                    signature_matrix[perm_idx, col] = min(signature_matrix[perm_idx, col], hash_values[perm_idx])\n",
    "    \n",
    "    return signature_matrix\n",
    "\n"
   ]
  },
  {
   "cell_type": "markdown",
   "metadata": {},
   "source": [
    "Exemple from the classes"
   ]
  },
  {
   "cell_type": "code",
   "execution_count": 342,
   "metadata": {},
   "outputs": [
    {
     "name": "stdout",
     "output_type": "stream",
     "text": [
      "azenaze\n",
      "azenaze\n"
     ]
    }
   ],
   "source": [
    "for row in range(2):\n",
    "    print(\"azenaze\")"
   ]
  },
  {
   "cell_type": "code",
   "execution_count": 343,
   "metadata": {},
   "outputs": [
    {
     "name": "stdout",
     "output_type": "stream",
     "text": [
      "[[1 0 1]\n",
      " [0 0 1]\n",
      " [1 1 0]\n",
      " [0 1 1]\n",
      " [1 0 0]]\n",
      "[[inf inf inf]\n",
      " [inf inf inf]]\n"
     ]
    },
    {
     "data": {
      "text/plain": [
       "array([[0., 3., 1.],\n",
       "       [1., 0., 0.]])"
      ]
     },
     "execution_count": 343,
     "metadata": {},
     "output_type": "execute_result"
    }
   ],
   "source": [
    "#Permutation\n",
    "def h1_class(L,X):\n",
    "    h1 = [(1*i + 1) % 5 for i in X]\n",
    "    return h1\n",
    "def h2_class(L,X):\n",
    "    h2 = [(3*i + 1) % 5 for i in X]\n",
    "    return h2\n",
    "\n",
    "#Sparse matrix\n",
    "value = [1,0,1,0,0,1,1,1,0,0,1,1,1,0,0]\n",
    "sparse_matrix_class = np.array(value).reshape(5,3)\n",
    "print(sparse_matrix_class)\n",
    "\n",
    "\n",
    "#Signature matrix\n",
    "signature_matrix_class = np.full((2,sparse_matrix_class.shape[1]),np.inf)\n",
    "print(signature_matrix_class)\n",
    "for col in range(sparse_matrix_class.shape[1]):  # For each column (subset)\n",
    "    row_indices = np.where(sparse_matrix_class[:, col] == 1)[0]  # Non-zero rows in the column\n",
    "    \n",
    "    # Apply both hash functions to the row indices\n",
    "    h1_values = h1_class(L_VALUE, row_indices)\n",
    "    h2_values = h2_class(L_VALUE, row_indices)\n",
    "    \n",
    "    # Update the signature matrix with the minimum hash values\n",
    "    signature_matrix_class[0, col] = min(h1_values)  # First hash function\n",
    "    signature_matrix_class[1, col] = min(h2_values)  # Second hash function\n",
    "\n",
    "signature_matrix_class"
   ]
  },
  {
   "cell_type": "markdown",
   "metadata": {},
   "source": [
    "Jaccard scimilarity function"
   ]
  },
  {
   "cell_type": "code",
   "execution_count": 344,
   "metadata": {},
   "outputs": [
    {
     "data": {
      "text/plain": [
       "0.0"
      ]
     },
     "execution_count": 344,
     "metadata": {},
     "output_type": "execute_result"
    }
   ],
   "source": [
    "def approximate_jaccard_similarity(SIG, col1, col2):\n",
    "    match_count = np.sum(SIG[:, col1] == SIG[:, col2])\n",
    "    return match_count / SIG.shape[0]\n",
    "\n",
    "approximate_jaccard_similarity(signature_matrix_class, 0, 2)\n"
   ]
  },
  {
   "cell_type": "code",
   "execution_count": 345,
   "metadata": {},
   "outputs": [
    {
     "name": "stdout",
     "output_type": "stream",
     "text": [
      "0.2\n"
     ]
    }
   ],
   "source": [
    "def actual_jaccard_similarity(M, pos_subset1, pos_subset2):\n",
    "    subset_1 = set(np.where(M[:,pos_subset1] == 1)[0])\n",
    "    subset_2 = set(np.where(M[:,pos_subset2] == 1)[0])\n",
    "    intersection = len(subset_1 & subset_2)\n",
    "    union = len(subset_1 | subset_2)\n",
    "    return intersection / union\n",
    "\n",
    "print(actual_jaccard_similarity(sparse_matrix_class,0,2))"
   ]
  },
  {
   "cell_type": "markdown",
   "metadata": {},
   "source": [
    "With L big and Q varying"
   ]
  },
  {
   "cell_type": "code",
   "execution_count": 379,
   "metadata": {},
   "outputs": [
    {
     "name": "stdout",
     "output_type": "stream",
     "text": [
      "J(S_1, S_2) = 0.0000, JSIG(S_1, S_2) = 0.0000\n",
      "J(S_1, S_3) = 0.0000, JSIG(S_1, S_3) = 0.0000\n",
      "J(S_1, S_4) = 0.0000, JSIG(S_1, S_4) = 0.0000\n",
      "J(S_1, S_5) = 0.0000, JSIG(S_1, S_5) = 0.0000\n",
      "J(S_1, S_6) = 0.0000, JSIG(S_1, S_6) = 0.0000\n",
      "J(S_1, S_7) = 0.0000, JSIG(S_1, S_7) = 0.0000\n",
      "J(S_2, S_3) = 0.0000, JSIG(S_2, S_3) = 0.0000\n",
      "J(S_2, S_4) = 0.0000, JSIG(S_2, S_4) = 0.0000\n",
      "J(S_2, S_5) = 0.0000, JSIG(S_2, S_5) = 0.0000\n",
      "J(S_2, S_6) = 0.0000, JSIG(S_2, S_6) = 0.0000\n",
      "J(S_2, S_7) = 0.0217, JSIG(S_2, S_7) = 0.5000\n",
      "J(S_3, S_4) = 0.0000, JSIG(S_3, S_4) = 0.0000\n",
      "J(S_3, S_5) = 0.0000, JSIG(S_3, S_5) = 0.0000\n",
      "J(S_3, S_6) = 0.0000, JSIG(S_3, S_6) = 0.0000\n",
      "J(S_3, S_7) = 0.0000, JSIG(S_3, S_7) = 0.0000\n",
      "J(S_4, S_5) = 0.0238, JSIG(S_4, S_5) = 0.0000\n",
      "J(S_4, S_6) = 0.0000, JSIG(S_4, S_6) = 0.0000\n",
      "J(S_4, S_7) = 0.0000, JSIG(S_4, S_7) = 0.0000\n",
      "J(S_5, S_6) = 0.0000, JSIG(S_5, S_6) = 0.0000\n",
      "J(S_5, S_7) = 0.0000, JSIG(S_5, S_7) = 0.0000\n",
      "J(S_6, S_7) = 0.0000, JSIG(S_6, S_7) = 0.0000\n"
     ]
    },
    {
     "name": "stderr",
     "output_type": "stream",
     "text": [
      "/tmp/ipykernel_6177/3473781552.py:7: DeprecationWarning: Sampling from a set deprecated\n",
      "since Python 3.9 and will be removed in a subsequent version.\n",
      "  subset = set(random.sample(S, subset_size))\n"
     ]
    }
   ],
   "source": [
    "L_VALUE = 2749\n",
    "Q_VALUE = 7\n",
    "sparsity = 0.01\n",
    "subsets = generate_subset(L_VALUE, Q_VALUE)\n",
    "sparse_matrix = create_sparse_matrix(L_VALUE, Q_VALUE, subsets)\n",
    "signature_matrix_ = signature_matrix(sparse_matrix, 2, L_VALUE)\n",
    "\n",
    "for i in range(Q_VALUE):\n",
    "    for j in range(i + 1, Q_VALUE):\n",
    "        true_similarity = actual_jaccard_similarity(sparse_matrix, i, j)\n",
    "        approx_similarity = approximate_jaccard_similarity(signature_matrix_, i, j)\n",
    "        print(f\"J(S_{i+1}, S_{j+1}) = {true_similarity:.4f}, JSIG(S_{i+1}, S_{j+1}) = {approx_similarity:.4f}\")"
   ]
  }
 ],
 "metadata": {
  "kernelspec": {
   "display_name": "base",
   "language": "python",
   "name": "python3"
  },
  "language_info": {
   "codemirror_mode": {
    "name": "ipython",
    "version": 3
   },
   "file_extension": ".py",
   "mimetype": "text/x-python",
   "name": "python",
   "nbconvert_exporter": "python",
   "pygments_lexer": "ipython3",
   "version": "3.10.12"
  }
 },
 "nbformat": 4,
 "nbformat_minor": 2
}
